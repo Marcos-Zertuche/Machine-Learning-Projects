{
 "cells": [
  {
   "cell_type": "markdown",
   "metadata": {},
   "source": [
    "The goal of this ML model is to predict the winners of Premier League matches based on their averages accumulated until the last match. We are looking into all matches from 2010-2021.\n",
    "\n",
    "We are gonna preprocess the data and find the result for each game (Home win, Away Win, Tie) for each game, then remove the columns that have any game specific information. \n",
    "\n",
    "From this preprocessed data, we will make two models, a logistic regreession and a neural network"
   ]
  },
  {
   "cell_type": "code",
   "execution_count": 1,
   "metadata": {},
   "outputs": [],
   "source": [
    "import pandas as pd\n",
    "import numpy as np\n",
    "import tensorflow as tf\n",
    "\n",
    "\n",
    "\"\"\"PREPROCESSING, METRICS\"\"\"\n",
    "from sklearn.model_selection import train_test_split\n",
    "from sklearn.metrics import accuracy_score , classification_report, confusion_matrix\n",
    "from sklearn.preprocessing import StandardScaler, OneHotEncoder\n",
    "\n",
    "\n",
    "\"\"\"VISUALIZATION\"\"\"\n",
    "import matplotlib.pyplot as plt\n",
    "\n",
    "\"\"\"LOGISTIC REGRESSION IMPORTS\"\"\"\n",
    "from sklearn.linear_model import LogisticRegression\n",
    "from sklearn import metrics\n",
    "\n",
    "\n",
    "\n",
    "\"\"\"NEURAL NETWORKS\"\"\"\n",
    "from tensorflow.keras.layers import Dense, Activation, Input, Dropout\n",
    "from tensorflow.keras.layers import Embedding, Concatenate, Flatten\n",
    "from tensorflow.keras.models import  Sequential\n",
    "from tensorflow.keras.utils import plot_model , to_categorical\n",
    "\n",
    "\n"
   ]
  },
  {
   "cell_type": "markdown",
   "metadata": {},
   "source": [
    "## Data Preprocessing"
   ]
  },
  {
   "cell_type": "code",
   "execution_count": 2,
   "metadata": {},
   "outputs": [],
   "source": [
    "\"\"\"HELPER FUNCTIONS\"\"\"\n",
    "\n",
    "\"\"\"\n",
    "Mapping for result:\n",
    "0 = Home Team Win\n",
    "1 = Away Team Win \n",
    "2 = Draw\n",
    "\"\"\"\n",
    "\n",
    "def map_result(result):\n",
    "    team1_score, team2_score = map(int, result.split('-'))\n",
    "    if team1_score > team2_score:\n",
    "        return 0  # Home wins\n",
    "    elif team1_score < team2_score:\n",
    "        return 1  # Away wins\n",
    "    else:\n",
    "        return 2  # Draw"
   ]
  },
  {
   "cell_type": "code",
   "execution_count": 3,
   "metadata": {},
   "outputs": [],
   "source": [
    "\"\"\"DATA PREPROCESSING\"\"\"\n",
    "\n",
    "df = pd.read_csv(\"./Data/df_full_premierleague.csv\")\n",
    "\n",
    "df['result'] = df['result_full'].apply(map_result)\n",
    "df = df.dropna()\n",
    "# Dropping Rows with current match stats\n",
    "columns_to_drop = ['Unnamed: 0',\n",
    "                   'link_match', \n",
    "                   'season', \n",
    "                   'date', \n",
    "                   'home_team',\n",
    "                   'away_team',\n",
    "                   'result_full',\n",
    "                   'result_ht',\n",
    "                   'goal_home_ft',\n",
    "                   'goal_away_ft',\n",
    "                   'sg_match_ft',\n",
    "                   'goal_home_ht',\n",
    "                   'goal_away_ht',\n",
    "                   'sg_match_ht',\n",
    "                   'home_clearances',\n",
    "                   'home_corners',\n",
    "                   'home_fouls_conceded',\n",
    "                   'home_offsides',\n",
    "                   'home_passes',\n",
    "                   'home_possession',\n",
    "                   'home_red_cards',\n",
    "                   'home_shots',\n",
    "                   'home_shots_on_target',\n",
    "                   'home_tackles',\n",
    "                   'home_touches',\n",
    "                   'home_yellow_cards',\n",
    "                   'away_clearances',\n",
    "                   'away_corners',\n",
    "                   'away_fouls_conceded',\n",
    "                   'away_offsides',\n",
    "                   'away_passes',\n",
    "                   'away_possession',\n",
    "                   'away_red_cards',\n",
    "                   'away_shots',\n",
    "                   'away_shots_on_target',\n",
    "                   'away_tackles',\n",
    "                   'away_touches',\n",
    "                   'away_yellow_cards',\n",
    "                   ]\n",
    "\n",
    "df = df.drop(columns=columns_to_drop)\n",
    "\n"
   ]
  },
  {
   "cell_type": "code",
   "execution_count": 4,
   "metadata": {},
   "outputs": [
    {
     "name": "stdout",
     "output_type": "stream",
     "text": [
      "X_train dimension=  (3072, 76)\n",
      "X_test dimension=  (769, 76)\n",
      "y_train dimension=  (3072,)\n",
      "y_train dimension=  (769,)\n"
     ]
    }
   ],
   "source": [
    "\"\"\"SPLITTING UP THE TESTING AND TRAINING DATA\"\"\"\n",
    "df_data = df.drop(columns=['result'])\n",
    "df_target = df['result']\n",
    "\n",
    "# print(df_data)\n",
    "# print('******')\n",
    "# print(df_target)\n",
    "\n",
    "X_train, X_test, y_train, y_test =train_test_split(df_data,df_target,test_size=0.2,random_state=42)\n",
    "\n",
    "print('X_train dimension= ', X_train.shape)\n",
    "print('X_test dimension= ', X_test.shape)\n",
    "print('y_train dimension= ', y_train.shape)\n",
    "print('y_train dimension= ', y_test.shape)"
   ]
  },
  {
   "cell_type": "markdown",
   "metadata": {},
   "source": [
    "## Logistic Regression Model"
   ]
  },
  {
   "cell_type": "code",
   "execution_count": 5,
   "metadata": {},
   "outputs": [],
   "source": [
    "\"\"\"DATA FOR LINEAR REGRESSION\"\"\"\n",
    "scaler = StandardScaler()\n",
    "X_train_scaled = scaler.fit_transform(X_train)\n",
    "X_test_scaled = scaler.fit_transform(X_test)"
   ]
  },
  {
   "cell_type": "code",
   "execution_count": 6,
   "metadata": {},
   "outputs": [
    {
     "name": "stdout",
     "output_type": "stream",
     "text": [
      "Accuracy: 0.52\n",
      "\n",
      "Confusion Matrix:\n",
      "[[273  59  13]\n",
      " [114 118   9]\n",
      " [129  47   7]]\n",
      "\n",
      "Classification Report:\n",
      "              precision    recall  f1-score   support\n",
      "\n",
      "           0       0.53      0.79      0.63       345\n",
      "           1       0.53      0.49      0.51       241\n",
      "           2       0.24      0.04      0.07       183\n",
      "\n",
      "    accuracy                           0.52       769\n",
      "   macro avg       0.43      0.44      0.40       769\n",
      "weighted avg       0.46      0.52      0.46       769\n",
      "\n"
     ]
    }
   ],
   "source": [
    "\"\"\"LOGISTIC REGRESSION MODEL\"\"\"\n",
    "\n",
    "lr_model = LogisticRegression(multi_class='ovr', solver='liblinear')\n",
    "lr_model.fit(X_train_scaled, y_train)\n",
    "\n",
    "y_pred_lr = lr_model.predict(X_test_scaled)\n",
    "\n",
    "accuracy = accuracy_score(y_test, y_pred_lr)\n",
    "conf_matrix = confusion_matrix(y_test, y_pred_lr)\n",
    "class_report = classification_report(y_test, y_pred_lr)\n",
    "\n",
    "# Display the results\n",
    "print(f'Accuracy: {accuracy:.2f}')\n",
    "print('\\nConfusion Matrix:')\n",
    "print(conf_matrix)\n",
    "print('\\nClassification Report:')\n",
    "print(class_report)\n",
    "\n"
   ]
  },
  {
   "cell_type": "code",
   "execution_count": 7,
   "metadata": {},
   "outputs": [
    {
     "data": {
      "text/html": [
       "<div>\n",
       "<style scoped>\n",
       "    .dataframe tbody tr th:only-of-type {\n",
       "        vertical-align: middle;\n",
       "    }\n",
       "\n",
       "    .dataframe tbody tr th {\n",
       "        vertical-align: top;\n",
       "    }\n",
       "\n",
       "    .dataframe thead th {\n",
       "        text-align: right;\n",
       "    }\n",
       "</style>\n",
       "<table border=\"1\" class=\"dataframe\">\n",
       "  <thead>\n",
       "    <tr style=\"text-align: right;\">\n",
       "      <th></th>\n",
       "      <th>Feature</th>\n",
       "      <th>Coefficient</th>\n",
       "    </tr>\n",
       "  </thead>\n",
       "  <tbody>\n",
       "    <tr>\n",
       "      <th>0</th>\n",
       "      <td>clearances_avg_H</td>\n",
       "      <td>-0.075279</td>\n",
       "    </tr>\n",
       "    <tr>\n",
       "      <th>1</th>\n",
       "      <td>corners_avg_H</td>\n",
       "      <td>0.018869</td>\n",
       "    </tr>\n",
       "    <tr>\n",
       "      <th>2</th>\n",
       "      <td>fouls_conceded_avg_H</td>\n",
       "      <td>-0.119513</td>\n",
       "    </tr>\n",
       "    <tr>\n",
       "      <th>3</th>\n",
       "      <td>offsides_avg_H</td>\n",
       "      <td>0.107273</td>\n",
       "    </tr>\n",
       "    <tr>\n",
       "      <th>4</th>\n",
       "      <td>passes_avg_H</td>\n",
       "      <td>0.177886</td>\n",
       "    </tr>\n",
       "    <tr>\n",
       "      <th>...</th>\n",
       "      <td>...</td>\n",
       "      <td>...</td>\n",
       "    </tr>\n",
       "    <tr>\n",
       "      <th>71</th>\n",
       "      <td>sg_match_ft_acum_away</td>\n",
       "      <td>0.222869</td>\n",
       "    </tr>\n",
       "    <tr>\n",
       "      <th>72</th>\n",
       "      <td>goals_scored_ht_avg_away</td>\n",
       "      <td>0.158792</td>\n",
       "    </tr>\n",
       "    <tr>\n",
       "      <th>73</th>\n",
       "      <td>goals_conced_ht_avg_away</td>\n",
       "      <td>-0.050178</td>\n",
       "    </tr>\n",
       "    <tr>\n",
       "      <th>74</th>\n",
       "      <td>sg_match_ht_acum_away</td>\n",
       "      <td>-0.330186</td>\n",
       "    </tr>\n",
       "    <tr>\n",
       "      <th>75</th>\n",
       "      <td>performance_acum_away</td>\n",
       "      <td>-0.192741</td>\n",
       "    </tr>\n",
       "  </tbody>\n",
       "</table>\n",
       "<p>76 rows × 2 columns</p>\n",
       "</div>"
      ],
      "text/plain": [
       "                     Feature  Coefficient\n",
       "0           clearances_avg_H    -0.075279\n",
       "1              corners_avg_H     0.018869\n",
       "2       fouls_conceded_avg_H    -0.119513\n",
       "3             offsides_avg_H     0.107273\n",
       "4               passes_avg_H     0.177886\n",
       "..                       ...          ...\n",
       "71     sg_match_ft_acum_away     0.222869\n",
       "72  goals_scored_ht_avg_away     0.158792\n",
       "73  goals_conced_ht_avg_away    -0.050178\n",
       "74     sg_match_ht_acum_away    -0.330186\n",
       "75     performance_acum_away    -0.192741\n",
       "\n",
       "[76 rows x 2 columns]"
      ]
     },
     "execution_count": 7,
     "metadata": {},
     "output_type": "execute_result"
    }
   ],
   "source": [
    "# coefficients = lr_model.coef_[0]\n",
    "# intercept = lr_model.intercept_[0]\n",
    "\n",
    "coef_df = pd.DataFrame({'Feature': X_train.columns, 'Coefficient': lr_model.coef_[0]})\n",
    "coef_df                                                                                                                                                                                                                                                                                                                                                                                                                                                                                                                                                                                                                                                                                                                                                                                                                                                               "
   ]
  },
  {
   "cell_type": "markdown",
   "metadata": {},
   "source": [
    "## Multi-Layer Perceptron"
   ]
  },
  {
   "cell_type": "code",
   "execution_count": 8,
   "metadata": {},
   "outputs": [],
   "source": [
    "\"\"\"DATA FOR NEURAL NETWORK\"\"\"\n",
    "X_train, X_test, y_train, y_test =train_test_split(df_data,df_target,test_size=0.2,random_state=42)\n",
    "\n",
    "\n",
    "scaler = StandardScaler()\n",
    "X_train_scaled = scaler.fit_transform(X_train)\n",
    "X_test_scaled = scaler.fit_transform(X_test)\n",
    "\n",
    "num_classes = 3\n",
    "y_train_one_hot = to_categorical(y_train, num_classes)\n",
    "y_test_one_hot = to_categorical(y_test, num_classes)"
   ]
  },
  {
   "cell_type": "code",
   "execution_count": 12,
   "metadata": {},
   "outputs": [
    {
     "name": "stdout",
     "output_type": "stream",
     "text": [
      "Epoch 1/30\n",
      "154/154 [==============================] - 0s 1ms/step - loss: 1.0349 - accuracy: 0.4759 - auc: 0.6485 - val_loss: 0.9984 - val_accuracy: 0.5358 - val_auc: 0.6871\n",
      "Epoch 2/30\n",
      "154/154 [==============================] - 0s 752us/step - loss: 0.9917 - accuracy: 0.5251 - auc: 0.6920 - val_loss: 0.9911 - val_accuracy: 0.5358 - val_auc: 0.6915\n",
      "Epoch 3/30\n",
      "154/154 [==============================] - 0s 713us/step - loss: 0.9834 - accuracy: 0.5212 - auc: 0.7001 - val_loss: 0.9876 - val_accuracy: 0.5345 - val_auc: 0.6957\n",
      "Epoch 4/30\n",
      "154/154 [==============================] - 0s 746us/step - loss: 0.9803 - accuracy: 0.5299 - auc: 0.7029 - val_loss: 0.9867 - val_accuracy: 0.5384 - val_auc: 0.6971\n",
      "Epoch 5/30\n",
      "154/154 [==============================] - 0s 852us/step - loss: 0.9776 - accuracy: 0.5290 - auc: 0.7056 - val_loss: 0.9860 - val_accuracy: 0.5319 - val_auc: 0.6992\n",
      "Epoch 6/30\n",
      "154/154 [==============================] - 0s 831us/step - loss: 0.9737 - accuracy: 0.5326 - auc: 0.7096 - val_loss: 0.9867 - val_accuracy: 0.5267 - val_auc: 0.6990\n",
      "Epoch 7/30\n",
      "154/154 [==============================] - 0s 798us/step - loss: 0.9719 - accuracy: 0.5329 - auc: 0.7117 - val_loss: 0.9873 - val_accuracy: 0.5254 - val_auc: 0.6988\n",
      "Epoch 8/30\n",
      "154/154 [==============================] - 0s 778us/step - loss: 0.9703 - accuracy: 0.5342 - auc: 0.7129 - val_loss: 0.9869 - val_accuracy: 0.5202 - val_auc: 0.6981\n",
      "Epoch 9/30\n",
      "154/154 [==============================] - 0s 766us/step - loss: 0.9688 - accuracy: 0.5322 - auc: 0.7142 - val_loss: 0.9898 - val_accuracy: 0.5319 - val_auc: 0.6973\n",
      "Epoch 10/30\n",
      "154/154 [==============================] - 0s 762us/step - loss: 0.9681 - accuracy: 0.5368 - auc: 0.7145 - val_loss: 0.9895 - val_accuracy: 0.5332 - val_auc: 0.6971\n",
      "Epoch 11/30\n",
      "154/154 [==============================] - 0s 715us/step - loss: 0.9650 - accuracy: 0.5371 - auc: 0.7175 - val_loss: 0.9914 - val_accuracy: 0.5332 - val_auc: 0.6964\n",
      "Epoch 12/30\n",
      "154/154 [==============================] - 0s 729us/step - loss: 0.9636 - accuracy: 0.5358 - auc: 0.7183 - val_loss: 0.9889 - val_accuracy: 0.5306 - val_auc: 0.6973\n",
      "Epoch 13/30\n",
      "154/154 [==============================] - 0s 717us/step - loss: 0.9621 - accuracy: 0.5394 - auc: 0.7201 - val_loss: 0.9887 - val_accuracy: 0.5332 - val_auc: 0.6975\n",
      "Epoch 14/30\n",
      "154/154 [==============================] - 0s 900us/step - loss: 0.9608 - accuracy: 0.5345 - auc: 0.7212 - val_loss: 0.9906 - val_accuracy: 0.5280 - val_auc: 0.6963\n",
      "Epoch 15/30\n",
      "154/154 [==============================] - 0s 739us/step - loss: 0.9593 - accuracy: 0.5400 - auc: 0.7224 - val_loss: 0.9875 - val_accuracy: 0.5228 - val_auc: 0.6976\n",
      "Epoch 16/30\n",
      "154/154 [==============================] - 0s 731us/step - loss: 0.9574 - accuracy: 0.5391 - auc: 0.7238 - val_loss: 0.9931 - val_accuracy: 0.5267 - val_auc: 0.6946\n",
      "Epoch 17/30\n",
      "154/154 [==============================] - 0s 717us/step - loss: 0.9566 - accuracy: 0.5420 - auc: 0.7251 - val_loss: 0.9888 - val_accuracy: 0.5254 - val_auc: 0.6972\n",
      "Epoch 18/30\n",
      "154/154 [==============================] - 0s 710us/step - loss: 0.9549 - accuracy: 0.5420 - auc: 0.7259 - val_loss: 0.9904 - val_accuracy: 0.5254 - val_auc: 0.6954\n",
      "Epoch 19/30\n",
      "154/154 [==============================] - 0s 706us/step - loss: 0.9536 - accuracy: 0.5417 - auc: 0.7269 - val_loss: 0.9889 - val_accuracy: 0.5228 - val_auc: 0.6959\n",
      "Epoch 20/30\n",
      "154/154 [==============================] - 0s 702us/step - loss: 0.9509 - accuracy: 0.5456 - auc: 0.7293 - val_loss: 0.9899 - val_accuracy: 0.5228 - val_auc: 0.6955\n",
      "Epoch 21/30\n",
      "154/154 [==============================] - 0s 729us/step - loss: 0.9488 - accuracy: 0.5495 - auc: 0.7309 - val_loss: 0.9902 - val_accuracy: 0.5215 - val_auc: 0.6947\n",
      "Epoch 22/30\n",
      "154/154 [==============================] - 0s 796us/step - loss: 0.9472 - accuracy: 0.5485 - auc: 0.7328 - val_loss: 0.9921 - val_accuracy: 0.5319 - val_auc: 0.6969\n",
      "Epoch 23/30\n",
      "154/154 [==============================] - 0s 729us/step - loss: 0.9453 - accuracy: 0.5505 - auc: 0.7337 - val_loss: 0.9901 - val_accuracy: 0.5280 - val_auc: 0.6965\n",
      "Epoch 24/30\n",
      "154/154 [==============================] - 0s 706us/step - loss: 0.9436 - accuracy: 0.5472 - auc: 0.7351 - val_loss: 0.9935 - val_accuracy: 0.5267 - val_auc: 0.6944\n",
      "Epoch 25/30\n",
      "154/154 [==============================] - 0s 701us/step - loss: 0.9407 - accuracy: 0.5547 - auc: 0.7375 - val_loss: 0.9933 - val_accuracy: 0.5150 - val_auc: 0.6928\n",
      "Epoch 26/30\n",
      "154/154 [==============================] - 0s 704us/step - loss: 0.9387 - accuracy: 0.5592 - auc: 0.7390 - val_loss: 0.9937 - val_accuracy: 0.5254 - val_auc: 0.6947\n",
      "Epoch 27/30\n",
      "154/154 [==============================] - 0s 703us/step - loss: 0.9357 - accuracy: 0.5583 - auc: 0.7415 - val_loss: 0.9975 - val_accuracy: 0.5280 - val_auc: 0.6941\n",
      "Epoch 28/30\n",
      "154/154 [==============================] - 0s 709us/step - loss: 0.9353 - accuracy: 0.5527 - auc: 0.7411 - val_loss: 0.9951 - val_accuracy: 0.5098 - val_auc: 0.6898\n",
      "Epoch 29/30\n",
      "154/154 [==============================] - 0s 774us/step - loss: 0.9330 - accuracy: 0.5618 - auc: 0.7430 - val_loss: 0.9919 - val_accuracy: 0.5189 - val_auc: 0.6940\n",
      "Epoch 30/30\n",
      "154/154 [==============================] - 0s 893us/step - loss: 0.9299 - accuracy: 0.5612 - auc: 0.7459 - val_loss: 0.9948 - val_accuracy: 0.5202 - val_auc: 0.6921\n"
     ]
    }
   ],
   "source": [
    "\"\"\"CREATING THE NEURAL NETWORK\"\"\"\n",
    "nn_model = Sequential()\n",
    "\n",
    "nn_model.add(Dense(units=32, input_dim=X_train.shape[1], activation='sigmoid'))\n",
    "# nn_model.add(Dropout(0.1))\n",
    "nn_model.add(Dense(units=16, activation='sigmoid'))\n",
    "nn_model.add(Dense(units=3, activation='softmax'))\n",
    "\n",
    "nn_model.compile(optimizer='adam', loss='categorical_crossentropy', metrics=['accuracy',tf.keras.metrics.AUC(name='auc')])\n",
    "\n",
    "nn_model_performance = nn_model.fit(X_train_scaled, y_train_one_hot, epochs=30, batch_size=20, validation_data=(X_test_scaled, y_test_one_hot), verbose=1)\n"
   ]
  },
  {
   "cell_type": "code",
   "execution_count": 13,
   "metadata": {},
   "outputs": [
    {
     "data": {
      "text/plain": [
       "Text(0.5, 0, 'Epochs')"
      ]
     },
     "execution_count": 13,
     "metadata": {},
     "output_type": "execute_result"
    },
    {
     "data": {
      "image/png": "[encoded data removed]",
      "text/plain": [
       "<Figure size 1200x400 with 4 Axes>"
      ]
     },
     "metadata": {},
     "output_type": "display_data"
    }
   ],
   "source": [
    "plt.figure(figsize=(12,4))\n",
    "plt.subplot(2,2,1)\n",
    "plt.plot(nn_model_performance.history['auc'], label='Training AUC')\n",
    "plt.xlabel('Epochs')\n",
    "plt.ylabel('AUC Score')\n",
    "plt.title('Training AUC over Epochs')\n",
    "\n",
    "plt.subplot(2,2,2)\n",
    "plt.plot(nn_model_performance.history['val_auc'], label='Validation AUC')\n",
    "plt.xlabel('Epochs')\n",
    "plt.ylabel('AUC Score')\n",
    "plt.title('Validation AUC over Epochs')\n",
    "\n",
    "\n",
    "plt.subplot(2,2,3)\n",
    "plt.plot(nn_model_performance.history['loss'] , label='Training Loss')\n",
    "plt.ylabel('Loss')\n",
    "plt.xlabel('Epochs')\n",
    "\n",
    "plt.subplot(2,2,4)\n",
    "plt.plot(nn_model_performance.history['val_loss'] , label='Validation Loss')\n",
    "plt.ylabel('Loss')\n",
    "plt.xlabel('Epochs')"
   ]
  },
  {
   "cell_type": "markdown",
   "metadata": {},
   "source": [
    "## Random Forests"
   ]
  },
  {
   "cell_type": "code",
   "execution_count": 11,
   "metadata": {},
   "outputs": [
    {
     "name": "stdout",
     "output_type": "stream",
     "text": [
      "Accuracy (Random Forest): 0.5241\n",
      "              precision    recall  f1-score   support\n",
      "\n",
      "           0       0.55      0.80      0.65       345\n",
      "           1       0.52      0.45      0.48       241\n",
      "           2       0.33      0.10      0.16       183\n",
      "\n",
      "    accuracy                           0.52       769\n",
      "   macro avg       0.47      0.45      0.43       769\n",
      "weighted avg       0.49      0.52      0.48       769\n",
      "\n"
     ]
    }
   ],
   "source": [
    "from sklearn.ensemble import RandomForestClassifier\n",
    "\n",
    "# Create and train the Random Forest model\n",
    "rf_model = RandomForestClassifier(n_estimators=100, random_state=42)\n",
    "rf_model.fit(X_train, y_train)\n",
    "\n",
    "# Make predictions\n",
    "y_pred_rf = rf_model.predict(X_test)\n",
    "\n",
    "# Evaluate the model\n",
    "accuracy_rf = accuracy_score(y_test, y_pred_rf)\n",
    "print(f'Accuracy (Random Forest): {accuracy_rf:.4f}')\n",
    "print(classification_report(y_test, y_pred_rf))\n"
   ]
  },
  {
   "cell_type": "code",
   "execution_count": null,
   "metadata": {},
   "outputs": [],
   "source": []
  }
 ],
 "metadata": {
  "kernelspec": {
   "display_name": "Python 3",
   "language": "python",
   "name": "python3"
  },
  "language_info": {
   "codemirror_mode": {
    "name": "ipython",
    "version": 3
   },
   "file_extension": ".py",
   "mimetype": "text/x-python",
   "name": "python",
   "nbconvert_exporter": "python",
   "pygments_lexer": "ipython3",
   "version": "3.11.5"
  }
 },
 "nbformat": 4,
 "nbformat_minor": 2
}
