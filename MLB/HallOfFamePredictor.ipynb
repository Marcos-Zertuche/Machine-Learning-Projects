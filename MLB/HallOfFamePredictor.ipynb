{
 "cells": [
  {
   "cell_type": "markdown",
   "metadata": {},
   "source": [
    "# Hall Of Fame Predictor"
   ]
  },
  {
   "cell_type": "markdown",
   "metadata": {},
   "source": [
    "The goal of this Jupyter Notebook is to gain more experience using Machine Learning models to determine which players are likely to be inducted in the Baseball Hall of Fame. This model will focus on players who played after 1960. \n",
    "\n",
    "To begin we will take the `HallOfFame` file from Sean Lahman's Baseball Databank that provides us with the target columns. We will drop all non-players and anyone who played before 1960. \n",
    "\n",
    "To be eligible for the Hall of Fame, a player must play 10 full seasons and have been retired for 5, so we will remove all ineligible players.\n",
    "\n",
    "When thinking about this problem, it is important to note that there have been thousands of players, with only 273 inducted in the Hall of Fame. This can lead to a heavy class imbalance."
   ]
  },
  {
   "cell_type": "markdown",
   "metadata": {},
   "source": [
    "### Data Preprocessing"
   ]
  },
  {
   "cell_type": "code",
   "execution_count": 18,
   "metadata": {},
   "outputs": [
    {
     "name": "stdout",
     "output_type": "stream",
     "text": [
      "       playerID  inducted\n",
      "1748  roushed01         0\n",
      "1749   ricesa01         0\n",
      "1750  rixeyep01         0\n",
      "1751  grimebu01         0\n",
      "1752  bottoji01         0\n",
      "...         ...       ...\n",
      "4316  crawfca02         0\n",
      "4318  hodgegi01         1\n",
      "4319   kaatji01         1\n",
      "4320  minosmi01         1\n",
      "4322  olivato01         1\n",
      "\n",
      "[2516 rows x 2 columns]\n"
     ]
    }
   ],
   "source": [
    "import pandas as pd\n",
    "import numpy as np\n",
    "\n",
    "df_target = pd.read_csv('./Data/baseballdatabank-2023.1/contrib/HallOfFame.csv')\n",
    "\n",
    "\"\"\"Setting up target data\"\"\"\n",
    "# Drop observations where 'yearID' < 1960 and 'category' != 'player'\n",
    "# Map 'inducted' values to 1 for 'Y' and 0 for 'N'\n",
    "droppedAges = df_target[ (df_target['yearID'] < 1960) ].index\n",
    "df_target.drop(droppedAges , inplace=True)\n",
    "\n",
    "droppedCategories = df_target[ (df_target['category'] != 'Player') ].index\n",
    "df_target.drop(droppedCategories , inplace=True)\n",
    "\n",
    "df_target['inducted'] = df_target['inducted'].map({'Y': 1, 'N': 0})\n",
    "\n",
    "df_target.drop(columns=['yearID' , 'votedBy' , 'ballots', 'needed', 'votes', 'category', 'needed_note'], axis=1, inplace=True)\n"
   ]
  },
  {
   "cell_type": "code",
   "execution_count": null,
   "metadata": {},
   "outputs": [],
   "source": [
    "\"\"\"\n",
    "Possible sets to include\n",
    "\n",
    "AwardsPlayers\n",
    "- count of golden gloves\n",
    "- rookie of the year\n",
    "- mvp\n",
    "- Pitcher of the year\n",
    "- cy young \n",
    "- world series mvp\n",
    "- tsn all star\n",
    "- Rolaids Relief Man Award\n",
    "- Babe Ruth Award\n",
    "- Roberto Clemenete Award\n",
    "- ALCS/ NLCS Mvp\n",
    "- TSN Player of the year\n",
    "- Silver Slugger\n",
    "- TSN Fireman of the Year\n",
    "\n",
    "\n",
    "AllstarFull\n",
    "Appearances\n",
    "BattingPost\n",
    "Fielding\n",
    "Pitching\n",
    "PitchingPost\n",
    "\n",
    "\n",
    "\"\"\""
   ]
  },
  {
   "cell_type": "code",
   "execution_count": null,
   "metadata": {},
   "outputs": [],
   "source": []
  }
 ],
 "metadata": {
  "kernelspec": {
   "display_name": "base",
   "language": "python",
   "name": "python3"
  },
  "language_info": {
   "codemirror_mode": {
    "name": "ipython",
    "version": 3
   },
   "file_extension": ".py",
   "mimetype": "text/x-python",
   "name": "python",
   "nbconvert_exporter": "python",
   "pygments_lexer": "ipython3",
   "version": "3.11.5"
  }
 },
 "nbformat": 4,
 "nbformat_minor": 2
}
